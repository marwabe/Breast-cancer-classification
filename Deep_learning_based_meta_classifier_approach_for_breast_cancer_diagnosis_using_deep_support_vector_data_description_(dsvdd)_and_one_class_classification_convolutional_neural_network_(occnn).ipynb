{
  "cells": [
    {
      "cell_type": "markdown",
      "metadata": {
        "id": "87Ux2EvGKLri"
      },
      "source": [
        "# **Deep learning-based meta-classifier approach for breast cancer diagnosis using deep support vector data description (dsvdd) and one-class classification convolutional neural network (occnn)**\n",
        "\n",
        "---\n",
        "\n",
        "\n"
      ]
    },
    {
      "cell_type": "markdown",
      "metadata": {
        "id": "Ug5VBo49cj5U"
      },
      "source": [
        "# Task1: Python code for one-class classification using support vector data description\n",
        "---"
      ]
    },
    {
      "cell_type": "markdown",
      "metadata": {
        "id": "560k4-nictlW"
      },
      "source": [
        "## 1.Import the necessary libraries "
      ]
    },
    {
      "cell_type": "code",
      "execution_count": null,
      "metadata": {
        "id": "ZuNekMlXxRsX"
      },
      "outputs": [],
      "source": [
        "#import libraries\n",
        "from mpl_toolkits.mplot3d import Axes3D\n",
        "from sklearn.preprocessing import StandardScaler\n",
        "import matplotlib.pyplot as plt # plotting\n",
        "import numpy as np # linear algebra\n",
        "from numpy import asarray\n",
        "from sklearn.preprocessing import OrdinalEncoder\n",
        "import os # accessing directory structure\n",
        "import pandas as pd # data processing, CSV file I/O (e.g. pd.read_csv)\n",
        "import seaborn as sns\n",
        "import pickle\n",
        "pd.pandas.set_option('display.max_rows',None) \n",
        "pd.pandas.set_option('display.max_columns',None)"
      ]
    },
    {
      "cell_type": "markdown",
      "metadata": {
        "id": "9bDKu6I60W4p"
      },
      "source": [
        "## 2.CBIS-DDSM (Curated Breast Imaging Subset of DDSM) "
      ]
    },
    {
      "cell_type": "markdown",
      "metadata": {
        "id": "BwlWYEMX0xFU"
      },
      "source": [
        " The CBIS-DDSM dataset contains **6 CSV** files including individual files for mass and calcification training and test sets: \n",
        "* mass_case_description_train_set.csv\n",
        "* mass_case_description_test_set.csv \n",
        "* calc_case_description_train_set.csv\n",
        "* calc_case_description_test_set.csv\n",
        "\n",
        "It contains Benign, Benign without call-back, and Malignant cases.\n",
        "\n",
        "It contain also metadata & Dicom info files.\n",
        "\n",
        "The CBIS-DDSM dataset contains 6774 directories including  **10239 mammography images in jpeg format**. The images are distributed in three types: \n",
        "*   Full mammogram images\n",
        "*   Cropped images\n",
        "*   ROI mask images\n"
      ]
    },
    {
      "cell_type": "markdown",
      "metadata": {
        "id": "NG1ao-rxwlaC"
      },
      "source": [
        "### 2.1. How to Load Kaggle Datasets Directly into Google Colab?\n",
        "https://www.analyticsvidhya.com/blog/2021/06/how-to-load-kaggle-datasets-directly-into-google-colab/\n",
        "\n",
        "\n",
        "---\n",
        "Addition site\n",
        "\n",
        "https://www.journaldunet.fr/web-tech/developpement/1441251-comment-importer-des-donnees-dans-les-notebooks-google-colaboratory/"
      ]
    },
    {
      "cell_type": "code",
      "execution_count": null,
      "metadata": {
        "id": "GoCeLP1DoVGw"
      },
      "outputs": [],
      "source": [
        "! pip install kaggle"
      ]
    },
    {
      "cell_type": "code",
      "execution_count": null,
      "metadata": {
        "id": "yXMiuMZqobnF"
      },
      "outputs": [],
      "source": [
        "! mkdir ~/.kaggle"
      ]
    },
    {
      "cell_type": "code",
      "execution_count": null,
      "metadata": {
        "id": "-EV64ZXeoitv"
      },
      "outputs": [],
      "source": [
        "! cp kaggle.json ~/.kaggle/"
      ]
    },
    {
      "cell_type": "code",
      "execution_count": null,
      "metadata": {
        "id": "WY1nuhqMomXN"
      },
      "outputs": [],
      "source": [
        "! chmod 600 ~/.kaggle/kaggle.json"
      ]
    },
    {
      "cell_type": "markdown",
      "metadata": {
        "id": "-ChR0NTyypdL"
      },
      "source": [
        "### 2.2.Download CBIS-DDSM Datasets"
      ]
    },
    {
      "cell_type": "code",
      "execution_count": null,
      "metadata": {
        "id": "NdoqxmIXo6Cf"
      },
      "outputs": [],
      "source": [
        "! kaggle datasets download awsaf49/cbis-ddsm-breast-cancer-image-dataset"
      ]
    },
    {
      "cell_type": "code",
      "execution_count": null,
      "metadata": {
        "colab": {
          "base_uri": "https://localhost:8080/"
        },
        "id": "4BQt_ehxs3Wa",
        "outputId": "1ffa1443-63a5-40a4-945f-c6c560357d0f"
      },
      "outputs": [
        {
          "metadata": {
            "tags": null
          },
          "name": "stdout",
          "output_type": "stream",
          "text": [
            "Archive:  cbis-ddsm-breast-cancer-image-dataset.zip\n",
            "replace csv/calc_case_description_test_set.csv? [y]es, [n]o, [A]ll, [N]one, [r]ename: "
          ]
        }
      ],
      "source": [
        "! unzip cbis-ddsm-breast-cancer-image-dataset"
      ]
    },
    {
      "cell_type": "markdown",
      "metadata": {
        "id": "xMw0d00TBfLu"
      },
      "source": [
        "\n",
        "\n",
        "## 3.Data explore\n",
        "\n",
        "\n"
      ]
    },
    {
      "cell_type": "markdown",
      "metadata": {
        "id": "F1tD1pOkA0Tj"
      },
      "source": [
        "Let's check 2nd file: calc_case_description_train_set.csv and take a quick look at what the data looks like:"
      ]
    },
    {
      "cell_type": "code",
      "execution_count": null,
      "metadata": {
        "id": "LTj3lS49CF8B"
      },
      "outputs": [],
      "source": [
        "#Read the dataset\n",
        "df1 = pd.read_csv('/content/csv/calc_case_description_train_set.csv')\n",
        "df1.head(5)"
      ]
    },
    {
      "cell_type": "code",
      "execution_count": null,
      "metadata": {
        "id": "WA4ApOX8Jxaf"
      },
      "outputs": [],
      "source": [
        "#Count the number of rows and columns in the dataset or datafame shape\n",
        "nRow, nCol = df1.shape\n",
        "print(f'There are {nRow} rows and {nCol} columns')"
      ]
    },
    {
      "cell_type": "markdown",
      "source": [
        "Si on veut visualiser la totalité du dataset,\n",
        "\n",
        "on applique l'instruction suivante:\n",
        "\n",
        "\n",
        "---\n",
        "pd.set_option('display.max_rows',df1.shape[0]+1)\n",
        "\n",
        "df1"
      ],
      "metadata": {
        "id": "3Po1ksdPsJMo"
      }
    },
    {
      "cell_type": "markdown",
      "metadata": {
        "id": "1x4ic8QWJ_ub"
      },
      "source": [
        "To find out how many of the columns are categorical and numerical we can use pandas “dtypes” to get the different data types and you can use pandas “value_counts()” function to get count of each data type. Value_counts groups all the unique instances and gives the count of each of those instances.\n",
        "\n",
        "**As you can see below we have 10 columns which are objects (categorical data) and 4 columns which are of int data type.**"
      ]
    },
    {
      "cell_type": "code",
      "execution_count": null,
      "metadata": {
        "id": "4tGa2UffKIvU"
      },
      "outputs": [],
      "source": [
        "display(df1.dtypes.value_counts())"
      ]
    },
    {
      "cell_type": "code",
      "execution_count": null,
      "metadata": {
        "id": "k-B3pQGNMdgB"
      },
      "outputs": [],
      "source": [
        "# Identify Numerical variables(data) and Categorical variables\n",
        "num_vars=df1.columns[df1.dtypes!='object']\n",
        "cat_vars=df1.columns[df1.dtypes=='object']\n",
        "print(num_vars)\n",
        "print(cat_vars)"
      ]
    },
    {
      "cell_type": "code",
      "execution_count": null,
      "metadata": {
        "id": "RaiGt5L3G_qL"
      },
      "outputs": [],
      "source": [
        "#Voir les valeurs manquantes\n",
        "df1.info()"
      ]
    },
    {
      "cell_type": "code",
      "execution_count": null,
      "metadata": {
        "id": "Oab6ilEDIfej"
      },
      "outputs": [],
      "source": [
        "#count the empty (NaN, NAN, na) values in each column\n",
        "df1.isna().sum().sort_values(ascending=False)"
      ]
    },
    {
      "cell_type": "code",
      "execution_count": null,
      "metadata": {
        "id": "cD8cFzOBJssk"
      },
      "outputs": [],
      "source": [
        "df1.describe()"
      ]
    },
    {
      "cell_type": "code",
      "execution_count": null,
      "metadata": {
        "id": "AQIpFF_jPyEo"
      },
      "outputs": [],
      "source": [
        "df1.describe(include=object)"
      ]
    },
    {
      "cell_type": "markdown",
      "metadata": {
        "id": "F62N-Pps1vE0"
      },
      "source": [
        "Percentage of missing Numerical data by feature with visualization:"
      ]
    },
    {
      "cell_type": "code",
      "execution_count": null,
      "metadata": {
        "id": "7UdpAIt1z29z"
      },
      "outputs": [],
      "source": [
        "# Percentage of missing values in each column along with visualization\n",
        "total = df1.isnull().sum().sort_values(ascending=False)\n",
        "percent = df1.isnull().sum()/df1.isnull().count().sort_values(ascending=False)\n",
        "missing_data = pd.concat([total, percent], axis=1, keys=['Total', 'Percent'])\n",
        "f, ax = plt.subplots(figsize=(15, 6))\n",
        "plt.xticks(rotation='90')\n",
        "sns.barplot(x=missing_data.index, y=missing_data['Percent'])\n",
        "plt.xlabel('df1', fontsize=15)\n",
        "plt.ylabel('Percent of missing values', fontsize=15)\n",
        "plt.title('Percent missing data by feature', fontsize=15)\n",
        "missing_data"
      ]
    },
    {
      "cell_type": "code",
      "source": [
        "# Renseigner les valeurs manquantes\n",
        "cat_data=[]\n",
        "num_data=[]\n",
        "for i,c in enumerate(df1.dtypes):\n",
        "  if c==object:\n",
        "    cat_data.append(df1.iloc[:,i])\n",
        "  else:\n",
        "    num_data.append(df1.iloc[:,i])\n",
        "cat_data=pd.DataFrame(cat_data).transpose()\n",
        "num_data=pd.DataFrame(num_data).transpose()"
      ],
      "metadata": {
        "id": "qhPLJjfUrT1l"
      },
      "execution_count": null,
      "outputs": []
    },
    {
      "cell_type": "code",
      "source": [
        "cat_data"
      ],
      "metadata": {
        "id": "6R_NqfIyuWWW"
      },
      "execution_count": null,
      "outputs": []
    },
    {
      "cell_type": "code",
      "source": [
        "num_data"
      ],
      "metadata": {
        "id": "O0IFgrLTub1g"
      },
      "execution_count": null,
      "outputs": []
    },
    {
      "cell_type": "markdown",
      "metadata": {
        "id": "8TZNIaWiiiAc"
      },
      "source": [
        "**Pour les variables catégoriques on va remplacer les valeurs manquantes par les valeurs qui se repetent le plus.**\n"
      ]
    },
    {
      "cell_type": "code",
      "execution_count": null,
      "metadata": {
        "id": "Ps8WUYfOSDD5"
      },
      "outputs": [],
      "source": [
        "cat_data=cat_data.apply(lambda x:x.fillna(x.value_counts().index[0]))\n",
        "cat_data.isnull().sum().any()"
      ]
    },
    {
      "cell_type": "code",
      "source": [
        "cat_data['calc distribution'].value_counts()"
      ],
      "metadata": {
        "id": "uMBGIsZOqlpt"
      },
      "execution_count": null,
      "outputs": []
    },
    {
      "cell_type": "code",
      "source": [
        "cat_data"
      ],
      "metadata": {
        "id": "mP15Bm7Dq40t"
      },
      "execution_count": null,
      "outputs": []
    },
    {
      "cell_type": "code",
      "source": [
        "# encoding the the target column\n",
        "target_value={'MALIGNANT':1,'BENIGN':0,'BENIGN_WITHOUT_CALLBACK':2}\n",
        "target=cat_data['pathology']\n",
        "cat_data.drop('pathology',axis=1,inplace=True)\n",
        "target=target.map(target_value)\n",
        "target"
      ],
      "metadata": {
        "id": "Wv-u7z1KeW6i"
      },
      "execution_count": null,
      "outputs": []
    },
    {
      "cell_type": "code",
      "execution_count": null,
      "metadata": {
        "id": "gbGydyDYpWsw"
      },
      "outputs": [],
      "source": [
        "# Remplacer les valeurs catégoriques par des valeurs numériques 0,1,2...\n",
        "from sklearn.preprocessing import LabelEncoder\n",
        "le=LabelEncoder()\n",
        "for i in cat_data:\n",
        "  cat_data[i]=le.fit_transform(cat_data[i])\n",
        "cat_data"
      ]
    },
    {
      "cell_type": "code",
      "source": [
        "# Concatener cat_data et num_data et spécifier la colonne target\n",
        "df1=pd.concat([cat_data,num_data,target], axis=1)"
      ],
      "metadata": {
        "id": "1z2fYaSPtNJY"
      },
      "execution_count": null,
      "outputs": []
    },
    {
      "cell_type": "code",
      "source": [
        "df1"
      ],
      "metadata": {
        "id": "mNu35x-ZmZam"
      },
      "execution_count": null,
      "outputs": []
    },
    {
      "cell_type": "code",
      "source": [
        "#counte the number of Malignant, Benign and benign_without_callback in target column\n",
        "target.value_counts()"
      ],
      "metadata": {
        "id": "jigykohA9Wa7"
      },
      "execution_count": null,
      "outputs": []
    },
    {
      "cell_type": "code",
      "source": [
        "#Visualize this count\n",
        "plt.figure(figsize=(8,6))\n",
        "sns.countplot(df1['pathology'],label=\"count\")\n",
        "MALIGNANT=target.value_counts()[1]/len(target)\n",
        "BENIGN=target.value_counts()[0]/len(target)\n",
        "BENIGN_WITHOUT_CALLBACK=target.value_counts()[2]/len(target)\n",
        "print(f'le pourcentage des valeurs accordés est:{MALIGNANT}')\n",
        "print(f'le pourcentage des valeurs accordés est:{BENIGN}')\n",
        "print(f'le pourcentage des valeurs accordés est:{BENIGN_WITHOUT_CALLBACK}')"
      ],
      "metadata": {
        "id": "cI0bFRcd-cYG"
      },
      "execution_count": null,
      "outputs": []
    },
    {
      "cell_type": "code",
      "source": [
        "#plotting the corellation matrix\n",
        "corr = df1.corr()\n",
        "plt.figure(figsize=(18,18))\n",
        "sns.heatmap(corr, cmap='coolwarm', annot = True)\n",
        "plt.show()"
      ],
      "metadata": {
        "id": "qjQSCvIiDkVS"
      },
      "execution_count": null,
      "outputs": []
    },
    {
      "cell_type": "code",
      "source": [
        "df1=df1[['breast density', 'abnormality id', 'assessment', 'subtlety', 'patient_id', 'left or right breast', 'image view', 'abnormality type',\n",
        "       'calc type', 'calc distribution', 'pathology', 'image file path',\n",
        "       'cropped image file path', 'ROI mask file path']]\n",
        "df1.corr()"
      ],
      "metadata": {
        "id": "q9nrFTKzOBlF"
      },
      "execution_count": null,
      "outputs": []
    },
    {
      "cell_type": "code",
      "source": [
        "#finding out the positively corelated feature\n",
        "cc=corr[abs(corr['pathology']) > 0.5].index\n",
        "print('- Number of most correlated features = ', len(cc))\n",
        "print('--------------------------------------------------')\n",
        "print('- Most correlated features is: \\n ',cc)"
      ],
      "metadata": {
        "id": "XM2W-EjIFbPN"
      },
      "execution_count": null,
      "outputs": []
    },
    {
      "cell_type": "code",
      "source": [
        "acc=df1[df1.columns[:]].corr()['pathology']\n",
        "print('All features  with thier correlations is: \\n',acc)"
      ],
      "metadata": {
        "id": "xbY6GVCPGaf6"
      },
      "execution_count": null,
      "outputs": []
    },
    {
      "cell_type": "code",
      "source": [
        "#finding out the negatively corelated feature\n",
        "cc2=corr[abs(corr['pathology']) <= 0.5].index\n",
        "print('- Number of Least correlated features = ', len(cc2))\n",
        "print('--------------------------------------------------')\n",
        "print('- Least correlated features is: \\n ',cc2)"
      ],
      "metadata": {
        "id": "G6fv22U5G7TG"
      },
      "execution_count": null,
      "outputs": []
    },
    {
      "cell_type": "markdown",
      "source": [
        "## 4.Create DEEP SVDD Model"
      ],
      "metadata": {
        "id": "KinJvaVzhGZX"
      }
    },
    {
      "cell_type": "code",
      "source": [
        "!pip install deep-svdd"
      ],
      "metadata": {
        "id": "njq78sFBXgsJ"
      },
      "execution_count": null,
      "outputs": []
    },
    {
      "cell_type": "code",
      "source": [
        "from dsvdd import *"
      ],
      "metadata": {
        "id": "vPOQnksWyOgy"
      },
      "execution_count": null,
      "outputs": []
    },
    {
      "cell_type": "code",
      "source": [
        "import tensorflow as tf\n",
        "import matplotlib.pyplot as plt\n",
        "import os\n",
        "from sklearn.metrics import roc_auc_score\n",
        "from sklearn.model_selection import train_test_split\n",
        "from sklearn import metrics\n",
        "#dividing the dataframe into training and target features\n",
        "x = df1.drop(['pathology'], axis=1)\n",
        "y = df1['pathology']\n",
        "import sys\n",
        "sys.path.append(\"..\")\n",
        "from sklearn.datasets import load_wine\n",
        "#splitting the dataframe and keeping 80% of the data for training and rest 20% for testing\n",
        "x_train, x_test, y_train, y_test = train_test_split(x, y, test_size=0.2, random_state=42, stratify = y)\n",
        "\n",
        "# \n",
        "deepsvdd=DeepSVDD(x_train, input_shape=(32, 32, 3), representation_dim=128,\n",
        "                    objective='one-class')\n",
        "\n",
        "# \n",
        "deepsvdd.fit(x_train, y_train)\n",
        "\n",
        "# \n",
        "deepsvdd.plot_boundary(x_train,  y_train)\n",
        "\n",
        "#\n",
        "y_test_predict = deepsvdd.predict(x_test, y_test)\n",
        "\n",
        "#\n",
        "radius = deepsvdd.radius\n",
        "distance = deepsvdd.get_distance(x_test)\n",
        "deepsvdd.plot_distance(radius, distance)"
      ],
      "metadata": {
        "id": "EKezNVarolZe"
      },
      "execution_count": null,
      "outputs": []
    }
  ],
  "metadata": {
    "colab": {
      "name": "Deep learning-based meta-classifier approach for breast cancer diagnosis using deep support vector data description (dsvdd) and one-class classification convolutional neural network (occnn).ipynb",
      "provenance": [],
      "collapsed_sections": []
    },
    "kernelspec": {
      "display_name": "Python 3",
      "name": "python3"
    },
    "language_info": {
      "name": "python"
    }
  },
  "nbformat": 4,
  "nbformat_minor": 0
}